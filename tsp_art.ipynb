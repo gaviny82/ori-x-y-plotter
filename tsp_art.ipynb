{
 "cells": [
  {
   "cell_type": "code",
   "execution_count": null,
   "metadata": {},
   "outputs": [],
   "source": [
    "# External dependencies\n",
    "from mecode import GMatrix\n"
   ]
  },
  {
   "cell_type": "code",
   "execution_count": null,
   "metadata": {},
   "outputs": [],
   "source": [
    "# Local denpendencies\n",
    "from src.helpers.gmatrix_extensions import get_gmatrix, pen_down, pen_up\n",
    "from src.repeating_patterns.draw_unit import draw_unit\n",
    "from src.repeating_patterns.draw_repeating_pattern import draw_repeating_pattern\n"
   ]
  },
  {
   "attachments": {},
   "cell_type": "markdown",
   "metadata": {},
   "source": [
    "# Step 1: Stipple the image\n",
    "[Producing a stippled image with Gimp - Evil Mad Scientist Wiki](https://wiki.evilmadscientist.com/Producing_a_stippled_image_with_Gimp)"
   ]
  },
  {
   "attachments": {},
   "cell_type": "markdown",
   "metadata": {},
   "source": [
    "# Step 2: Generate GCode\n",
    "[Generating TSP art from a stippled image - Evil Mad Scientist Wiki](https://wiki.evilmadscientist.com/Generating_TSP_art_from_a_stippled_image)"
   ]
  },
  {
   "attachments": {},
   "cell_type": "markdown",
   "metadata": {},
   "source": [
    "# Trials (incomplete)"
   ]
  },
  {
   "cell_type": "code",
   "execution_count": 1,
   "metadata": {},
   "outputs": [],
   "source": [
    "input_path: str = \"starship-olm-1024-stipple.tsp\"\n",
    "\n",
    "# Read the TSP file and conver the coordiantes into a list of tuples\n",
    "lines: list[str] = []\n",
    "with open(input_path) as f:\n",
    "    lines = f.readlines()\n",
    "\n",
    "# Remove the first lines of description\n",
    "for i, line in enumerate(lines):\n",
    "    if line[0] in \"0123456789\":\n",
    "        lines = lines[i:]\n",
    "        break\n",
    "\n",
    "# Remove line number\n",
    "points = [line.split()[1:] for line in lines]\n",
    "\n",
    "# Convert to float tuples\n",
    "points = [(float(x), float(y)) for x, y in points]"
   ]
  },
  {
   "cell_type": "code",
   "execution_count": 2,
   "metadata": {},
   "outputs": [],
   "source": [
    "solution_file: str = \"test1.cyc\"\n",
    "\n",
    "# Read the cyc file\n",
    "lines: list[str] = []\n",
    "with open(solution_file) as f:\n",
    "    lines = f.readlines()\n",
    "\n",
    "solution: list[int] = [int(line) for line in lines[1:]]"
   ]
  },
  {
   "cell_type": "code",
   "execution_count": 8,
   "metadata": {},
   "outputs": [],
   "source": [
    "# Create a GMatrix instance and write the starting GCode\n",
    "g = get_gmatrix(\"test.gcode\")\n",
    "\n",
    "# Move the pen to a reasonable starting position\n",
    "pen_up(g)\n",
    "g.absolute()\n",
    "\n",
    "# Start drawing\n",
    "pen_down(g)\n",
    "for item in solution:\n",
    "    x, y = points[item]\n",
    "    g.move(x, y)\n",
    "\n",
    "# Finish drawing\n",
    "pen_up(g)"
   ]
  }
 ],
 "metadata": {
  "kernelspec": {
   "display_name": "ML",
   "language": "python",
   "name": "python3"
  },
  "language_info": {
   "codemirror_mode": {
    "name": "ipython",
    "version": 3
   },
   "file_extension": ".py",
   "mimetype": "text/x-python",
   "name": "python",
   "nbconvert_exporter": "python",
   "pygments_lexer": "ipython3",
   "version": "3.10.9"
  },
  "orig_nbformat": 4,
  "vscode": {
   "interpreter": {
    "hash": "f5458f74cc04a2c0765be2b43bd75bd0f09091972ab65a3b08edb45fbf046640"
   }
  }
 },
 "nbformat": 4,
 "nbformat_minor": 2
}
