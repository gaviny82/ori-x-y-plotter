{
 "cells": [
  {
   "cell_type": "code",
   "execution_count": 2,
   "metadata": {},
   "outputs": [],
   "source": [
    "from svg_to_gcode.svg_parser import parse_file\n",
    "from svg_to_gcode.compiler import Compiler, interfaces\n",
    "\n",
    "# Instantiate a compiler, specifying the interface type and the speed at which the tool should move. pass_depth controls\n",
    "# how far down the tool moves after every pass. Set it to 0 if your machine does not support Z axis movement.\n",
    "gcode_compiler = Compiler(\n",
    "    interfaces.Gcode, movement_speed=1000, cutting_speed=300, pass_depth=3.3\n",
    "    )\n",
    "\n",
    "curves = parse_file(\"hello-world.svg\")  # Parse an svg file into geometric curves\n",
    "\n",
    "gcode_compiler.append_curves(curves)\n",
    "gcode_compiler.compile_to_file(\"output.gcode\", passes=2)\n"
   ]
  }
 ],
 "metadata": {
  "kernelspec": {
   "display_name": "Python 3",
   "language": "python",
   "name": "python3"
  },
  "language_info": {
   "codemirror_mode": {
    "name": "ipython",
    "version": 3
   },
   "file_extension": ".py",
   "mimetype": "text/x-python",
   "name": "python",
   "nbconvert_exporter": "python",
   "pygments_lexer": "ipython3",
   "version": "3.7.3"
  },
  "orig_nbformat": 4,
  "vscode": {
   "interpreter": {
    "hash": "46e670005f58586efd984989cbf21208f475635d63e1c747a21b69beafae180e"
   }
  }
 },
 "nbformat": 4,
 "nbformat_minor": 2
}
