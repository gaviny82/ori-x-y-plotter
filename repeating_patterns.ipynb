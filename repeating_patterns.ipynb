{
 "cells": [
  {
   "cell_type": "code",
   "execution_count": 1,
   "metadata": {},
   "outputs": [],
   "source": [
    "from mecode import GMatrix\n",
    "from helpers.gmatrix_extensions import get_gmatrix, pen_down, pen_up\n"
   ]
  },
  {
   "attachments": {},
   "cell_type": "markdown",
   "metadata": {},
   "source": [
    "# Draw a unit"
   ]
  },
  {
   "cell_type": "code",
   "execution_count": 3,
   "metadata": {},
   "outputs": [],
   "source": [
    "def draw_unit(g: GMatrix, path: list[list[tuple[float, float]]]) -> None:\n",
    "    \"\"\"Draw a unit of the repeating pattern. This method assumes the pen is raised at the starting position when called.\n",
    "\n",
    "    Args:\n",
    "        g (GMatrix): GMatrix instance to use for GCode generation.\n",
    "        path (list[list[tuple[float, float]]]): List of strokes to draw. Each stroke is a list of points. The coordinates are relative to the current position.\n",
    "    \"\"\"\n",
    "    \n",
    "    # Set to absolute coordinates\n",
    "    is_relative = g.is_relative\n",
    "    if is_relative:\n",
    "        g.absolute()\n",
    "\n",
    "    # Convert path in relative coordinates to absolute coordinates, based on the current position\n",
    "    path = path.copy() # Important: make a copy of the path, so that the original path is not modified\n",
    "    current_x = g.current_position['x']\n",
    "    current_y = g.current_position['y']\n",
    "    for i, stroke in enumerate(path):\n",
    "        path[i] = [(x + current_x, y + current_y)\n",
    "                   for x, y in stroke]\n",
    "\n",
    "    for stroke in path:\n",
    "        # Move to the first point of the stroke and start drawing\n",
    "        x0, y0 = stroke[0]\n",
    "        g.abs_move(x0, y0)\n",
    "        pen_down(g)\n",
    "\n",
    "        # Draw the stroke by moving to each point\n",
    "        for x, y in stroke[1:]:\n",
    "            g.abs_move(x, y)\n",
    "\n",
    "        # Finish drawing the stroke. Raise the pen to prepare for the next stroke.\n",
    "        pen_up(g)\n",
    "\n",
    "    # Restore the coordinate mode\n",
    "    if is_relative:\n",
    "        g.relative()"
   ]
  },
  {
   "cell_type": "code",
   "execution_count": 4,
   "metadata": {},
   "outputs": [],
   "source": [
    "square_pattern = [\n",
    "    [(0, 10), (0, 0), (10, 0)]  # The left and top sides of the square\n",
    "]  # This pattern contains only one stroke.\n",
    "\n",
    "rotated_square_pattern = [\n",
    "    [(0, 0), (20, 20)],  # diagonal top-left to bottom-right\n",
    "    [(20, 15), (15, 10), (20, 5)],  # right triangle\n",
    "    [(20, 0), (0, 20)],  # diagonal top-right to bottom-left\n",
    "    [(0, 15), (5, 10), (0, 5)],  # left triangle\n",
    "    [(5, 0), (10, 5), (15, 0)],  # top triangle\n",
    "    [(5, 20), (10, 15), (15, 20)],  # bottom triangle\n",
    "]\n"
   ]
  },
  {
   "cell_type": "code",
   "execution_count": 5,
   "metadata": {},
   "outputs": [],
   "source": [
    "# Unit test for draw_unit\n",
    "g: GMatrix = get_gmatrix(\"unit_test.gcode\")\n",
    "pen_up(g)\n",
    "draw_unit(g, rotated_square_pattern)\n"
   ]
  },
  {
   "attachments": {},
   "cell_type": "markdown",
   "metadata": {},
   "source": [
    "# Draw repeating pattern"
   ]
  },
  {
   "cell_type": "code",
   "execution_count": 6,
   "metadata": {},
   "outputs": [],
   "source": [
    "def draw_reapeating_pattern(\n",
    "        g: GMatrix,\n",
    "        width: float,\n",
    "        height: float,\n",
    "        path: list[list[tuple[float, float]]],\n",
    "        scale: float,\n",
    "        repeat: tuple[int, int]\n",
    "        ) -> None:\n",
    "    \"\"\"Draw a unit of the repeating pattern. This method assumes the pen is raised at the starting position when called.\n",
    "\n",
    "    Args:\n",
    "        g (GMatrix): GMatrix instance to use for GCode generation.\n",
    "        width (float): Width of the pattern in mm. This is the distance moved in x-direction after each pattern is drawn.\n",
    "        height (float): Height of the pattern in mm. This is the distance moved in y-direction after each line of patterns is drawn.\n",
    "        path (list[list[tuple[float, float]]]): List of strokes to draw. Each stroke is a list of points.\n",
    "        scale (float): Scale factor to apply to the pattern.\n",
    "        repeat (tuple[int, int]): Number of times to repeat the pattern in the x and y directions, respectively.\n",
    "    \"\"\"\n",
    "\n",
    "    # Check if there is any point in path that is outside the limit of width and height\n",
    "    for stroke in path:\n",
    "        for x, y in stroke:\n",
    "            if x > width or y > height:\n",
    "                raise ValueError(\"Path is outside the dimension limit\")\n",
    "\n",
    "    # Scale the pattern\n",
    "    path = [[(x * scale, y * scale) for x, y in stroke] for stroke in path]\n",
    "    width = width * scale\n",
    "    height = height * scale\n",
    "\n",
    "    # Check if the repeating pattern takes more space than the page\n",
    "    # Page limit: 205x275 mm\n",
    "    if width * repeat[0] > 205 or height * repeat[1] > 275:\n",
    "        raise ValueError(\"Repeating pattern is outside the dimension limit\")\n",
    "\n",
    "    # Set to absolute mode for drawing repeating patterns\n",
    "    g.absolute()\n",
    "\n",
    "    # Draw the pattern from the current position\n",
    "    x_initial = g.current_position['x']\n",
    "    y_initial = g.current_position['y']\n",
    "    x = x_initial\n",
    "    y = y_initial\n",
    "    for y_rep in range(repeat[1]):\n",
    "\n",
    "        # Draw each row of the pattern\n",
    "        for x_rep in range(repeat[0]):\n",
    "            draw_unit(g, path)\n",
    "            x += width\n",
    "            g.abs_move(x, y)\n",
    "        \n",
    "        # Move to the next row\n",
    "        x = x_initial\n",
    "        y += height\n",
    "        g.abs_move(x_initial, y)\n",
    "\n",
    "    # Set to relative mode\n",
    "    g.relative()"
   ]
  },
  {
   "cell_type": "code",
   "execution_count": 8,
   "metadata": {},
   "outputs": [],
   "source": [
    "# Useful GCode snippets\n",
    "end_code = \"\"\n",
    "\n",
    "# Initialise GCode generation and write start code\n",
    "g: GMatrix = get_gmatrix(\"output.gcode\")\n",
    "\n",
    "# Move the pen to a reasonable starting position\n",
    "pen_up(g)\n",
    "g.move(30, 30)\n",
    "\n",
    "# Draw the pattern\n",
    "draw_reapeating_pattern(g, 20, 20, rotated_square_pattern, 1, (4, 5))\n",
    "\n",
    "# Write end code\n",
    "g.pop_matrix()\n",
    "g.write(end_code)\n"
   ]
  }
 ],
 "metadata": {
  "kernelspec": {
   "display_name": "base",
   "language": "python",
   "name": "python3"
  },
  "language_info": {
   "codemirror_mode": {
    "name": "ipython",
    "version": 3
   },
   "file_extension": ".py",
   "mimetype": "text/x-python",
   "name": "python",
   "nbconvert_exporter": "python",
   "pygments_lexer": "ipython3",
   "version": "3.9.7"
  },
  "orig_nbformat": 4,
  "vscode": {
   "interpreter": {
    "hash": "ad2bdc8ecc057115af97d19610ffacc2b4e99fae6737bb82f5d7fb13d2f2c186"
   }
  }
 },
 "nbformat": 4,
 "nbformat_minor": 2
}
