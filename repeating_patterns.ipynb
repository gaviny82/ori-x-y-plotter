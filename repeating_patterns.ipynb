{
 "cells": [
  {
   "cell_type": "code",
   "execution_count": 1,
   "metadata": {},
   "outputs": [
    {
     "name": "stdout",
     "output_type": "stream",
     "text": [
      "Requirement already satisfied: mecode in c:\\programdata\\anaconda3\\lib\\site-packages (0.4.1)\n",
      "Requirement already satisfied: numpy in c:\\users\\jinch\\appdata\\roaming\\python\\python39\\site-packages (from mecode) (1.24.2)\n",
      "Requirement already satisfied: pyserial in c:\\programdata\\anaconda3\\lib\\site-packages (from mecode) (3.5)\n",
      "Note: you may need to restart the kernel to use updated packages.\n"
     ]
    },
    {
     "name": "stderr",
     "output_type": "stream",
     "text": [
      "WARNING: Ignoring invalid distribution -olorama (c:\\programdata\\anaconda3\\lib\\site-packages)\n",
      "WARNING: Ignoring invalid distribution -olorama (c:\\programdata\\anaconda3\\lib\\site-packages)\n",
      "WARNING: Ignoring invalid distribution -olorama (c:\\programdata\\anaconda3\\lib\\site-packages)\n",
      "WARNING: Ignoring invalid distribution -olorama (c:\\programdata\\anaconda3\\lib\\site-packages)\n",
      "WARNING: Ignoring invalid distribution -olorama (c:\\programdata\\anaconda3\\lib\\site-packages)\n",
      "WARNING: Ignoring invalid distribution -olorama (c:\\programdata\\anaconda3\\lib\\site-packages)\n"
     ]
    }
   ],
   "source": [
    "%pip install mecode\n",
    "\n",
    "import mecode\n",
    "from mecode import GMatrix"
   ]
  },
  {
   "attachments": {},
   "cell_type": "markdown",
   "metadata": {},
   "source": [
    "# Helpers"
   ]
  },
  {
   "cell_type": "code",
   "execution_count": 2,
   "metadata": {},
   "outputs": [],
   "source": [
    "def pen_down(g: GMatrix) -> None:\n",
    "    \"\"\"Lower the pen.\n",
    "\n",
    "    Args:\n",
    "        g (GMatrix): GMatrix instance to use for GCode generation.\n",
    "    \"\"\"\n",
    "\n",
    "    g.move(z=-3.3)\n",
    "    g.write(\"M9\")\n",
    "\n",
    "\n",
    "def pen_up(g: GMatrix) -> None:\n",
    "    \"\"\"Raise the pen.\n",
    "\n",
    "    Args:\n",
    "        g (GMatrix): GMatrix instance to use for GCode generation.\n",
    "    \"\"\"\n",
    "\n",
    "    g.move(z=3.3)\n",
    "    g.write(\"M8\")\n",
    "\n",
    "\n",
    "def get_gmatrix(outfile: str = None) -> GMatrix:\n",
    "    \"\"\"Create a GMatrix instance and write the starting GCode.\n",
    "\n",
    "    Args:\n",
    "        outfile (str, optional): Path to the output file. Defaults to None.\n",
    "\n",
    "    Returns:\n",
    "        GMatrix: GMatrix instance.\n",
    "    \"\"\"\n",
    "\n",
    "    start_code = \"G91 ;relative\\nG21 ;mm\\nG92 X0 Y0 Z0 ;reset origin\\nF2000;motion speed\"\n",
    "    g = GMatrix(outfile=outfile)\n",
    "    g.push_matrix()\n",
    "    g.write(start_code)\n",
    "    return g\n"
   ]
  },
  {
   "attachments": {},
   "cell_type": "markdown",
   "metadata": {},
   "source": [
    "# Draw a unit"
   ]
  },
  {
   "cell_type": "code",
   "execution_count": 3,
   "metadata": {},
   "outputs": [],
   "source": [
    "def draw_unit(g: GMatrix, path: list[list[tuple[float, float]]]) -> None:\n",
    "    \"\"\"Draw a unit of the repeating pattern. This method assumes the pen is raised at the starting position when called.\n",
    "\n",
    "    Args:\n",
    "        g (GMatrix): GMatrix instance to use for GCode generation.\n",
    "        path (list[list[tuple[float, float]]]): List of segments to draw. Each segment is a list of points. The coordinates are relative to the current position.\n",
    "    \"\"\"\n",
    "\n",
    "    for segment in path:\n",
    "        # Convert relative coordinates to absolute coordinates\n",
    "        segment = [(x + g.current_position['x'], y + g.current_position['y'])\n",
    "                   for x, y in segment]\n",
    "\n",
    "        # Move to the first point of the segment and start drawing\n",
    "        x0, y0 = segment[0]\n",
    "        g.abs_move(x0, y0)\n",
    "        pen_down(g)\n",
    "\n",
    "        # Draw the segment by moving to each point\n",
    "        for x, y in segment[1:]:\n",
    "            g.abs_move(x, y)\n",
    "\n",
    "        # Finish drawing the segment. Raise the pen to prepare for the next segment.\n",
    "        pen_up(g)\n"
   ]
  },
  {
   "cell_type": "code",
   "execution_count": 4,
   "metadata": {},
   "outputs": [
    {
     "name": "stdout",
     "output_type": "stream",
     "text": [
      "G91 ;relative\n",
      "G91 ;relative\n",
      "G21 ;mm\n",
      "G92 X0 Y0 Z0 ;reset origin\n",
      "F2000;motion speed\n",
      "G1 X0.000000 Y0.000000 Z3.300000\n",
      "M8\n",
      "G90 ;absolute\n",
      "G1 X0.000000 Y10.000000 Z3.300000\n",
      "G91 ;relative\n",
      "G1 X0.000000 Y0.000000 Z-3.300000\n",
      "M9\n",
      "G90 ;absolute\n",
      "G1 X0.000000 Y0.000000 Z0.000000\n",
      "G91 ;relative\n",
      "G90 ;absolute\n",
      "G1 X10.000000 Y0.000000 Z0.000000\n",
      "G91 ;relative\n",
      "G1 X0.000000 Y0.000000 Z3.300000\n",
      "M8\n"
     ]
    }
   ],
   "source": [
    "# Unit test for draw_unit\n",
    "g: GMatrix = get_gmatrix()\n",
    "pen_up(g)\n",
    "\n",
    "square_pattern = [\n",
    "        [(0, 10), (0, 0), (10, 0)] # The left and top sides of the square\n",
    "    ] # This pattern contains only one segment.\n",
    "draw_unit(g, square_pattern)"
   ]
  },
  {
   "attachments": {},
   "cell_type": "markdown",
   "metadata": {},
   "source": [
    "# Draw repeating pattern"
   ]
  },
  {
   "cell_type": "code",
   "execution_count": 5,
   "metadata": {},
   "outputs": [],
   "source": [
    "def draw_reapeating_pattern(\n",
    "        g: GMatrix,\n",
    "        width: float,\n",
    "        height: float,\n",
    "        path: list[list[tuple[float, float]]],\n",
    "        scale: float,\n",
    "        repeat: tuple[int, int]\n",
    "        ) -> None:\n",
    "    \"\"\"Draw a unit of the repeating pattern. This method assumes the pen is raised at the starting position when called.\n",
    "\n",
    "    Args:\n",
    "        g (GMatrix): GMatrix instance to use for GCode generation.\n",
    "        width (float): Width of the pattern in mm.\n",
    "        height (float): Height of the pattern in mm.\n",
    "        path (list[list[tuple[float, float]]]): List of segments to draw. Each segment is a list of points.\n",
    "        scale (float): Scale factor to apply to the pattern.\n",
    "        repeat (tuple[int, int]): Number of times to repeat the pattern in the x and y directions, respectively.\n",
    "    \"\"\"\n",
    "\n",
    "    # Check if there is any point in path that is outside the limit of width and height\n",
    "    for segment in path:\n",
    "        for x, y in segment:\n",
    "            if x > width or y > height:\n",
    "                raise ValueError(\"Path is outside the dimension limit\")\n",
    "\n",
    "    # Scale the pattern\n",
    "    path = [[(x * scale, y * scale) for x, y in segment] for segment in path]\n",
    "    width = width * scale\n",
    "    height = height * scale\n",
    "\n",
    "    # Check if the repeating pattern takes more space than the page\n",
    "    # Page limit: 205x275 mm\n",
    "    if width * repeat[0] > 205 or height * repeat[1] > 275:\n",
    "        raise ValueError(\"Repeating pattern is outside the dimension limit\")\n",
    "\n",
    "    # Draw the pattern from the current position\n",
    "    x_initial = g.current_position['x']\n",
    "    y_initial = g.current_position['y']\n",
    "    x = x_initial\n",
    "    y = y_initial\n",
    "    for y_rep in range(repeat[1]):\n",
    "\n",
    "        # Draw each row of the pattern\n",
    "        for x_rep in range(repeat[0]):\n",
    "            draw_unit(g, path)\n",
    "            x += width\n",
    "            g.abs_move(x)\n",
    "        \n",
    "        # Move to the next row\n",
    "        x = x_initial\n",
    "        y += height\n",
    "        g.abs_move(x_initial, y)\n"
   ]
  },
  {
   "cell_type": "code",
   "execution_count": 6,
   "metadata": {},
   "outputs": [],
   "source": [
    "# Useful GCode snippets\n",
    "end_code = \"\"\n",
    "\n",
    "# Initialise GCode generation and write start code\n",
    "g: GMatrix = get_gmatrix(\"output.gcode\")\n",
    "\n",
    "# Move the pen to a reasonable starting position\n",
    "pen_up(g)\n",
    "g.move(30, 30)\n",
    "\n",
    "# Draw the pattern\n",
    "square_pattern = [\n",
    "        [(0, 10), (0, 0), (10, 0)] # The left and top sides of the square\n",
    "    ] # This pattern contains only one segment.\n",
    "draw_reapeating_pattern(g, 10, 10, square_pattern, 1, (4, 10))\n",
    "\n",
    "# Write end code\n",
    "g.pop_matrix()\n",
    "g.write(end_code)\n"
   ]
  }
 ],
 "metadata": {
  "kernelspec": {
   "display_name": "base",
   "language": "python",
   "name": "python3"
  },
  "language_info": {
   "codemirror_mode": {
    "name": "ipython",
    "version": 3
   },
   "file_extension": ".py",
   "mimetype": "text/x-python",
   "name": "python",
   "nbconvert_exporter": "python",
   "pygments_lexer": "ipython3",
   "version": "3.9.7"
  },
  "orig_nbformat": 4,
  "vscode": {
   "interpreter": {
    "hash": "ad2bdc8ecc057115af97d19610ffacc2b4e99fae6737bb82f5d7fb13d2f2c186"
   }
  }
 },
 "nbformat": 4,
 "nbformat_minor": 2
}
