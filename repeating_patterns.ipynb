{
 "cells": [
  {
   "cell_type": "code",
   "execution_count": 1,
   "metadata": {},
   "outputs": [],
   "source": [
    "# External dependencies\n",
    "from mecode import GMatrix\n"
   ]
  },
  {
   "cell_type": "code",
   "execution_count": 2,
   "metadata": {},
   "outputs": [],
   "source": [
    "# Local denpendencies\n",
    "from src.helpers.gmatrix_extensions import get_gmatrix, pen_down, pen_up\n",
    "from src.repeating_patterns.draw_unit import draw_unit\n",
    "from src.repeating_patterns.draw_repeating_pattern import draw_repeating_pattern\n"
   ]
  },
  {
   "attachments": {},
   "cell_type": "markdown",
   "metadata": {},
   "source": [
    "# Patterns\n"
   ]
  },
  {
   "cell_type": "code",
   "execution_count": 3,
   "metadata": {},
   "outputs": [],
   "source": [
    "square_pattern = [\n",
    "    [(0, 10), (0, 0), (10, 0)]  # The left and top sides of the square\n",
    "]  # This pattern contains only one stroke.\n",
    "\n",
    "rotated_square_pattern = [\n",
    "    [(0, 0), (20, 20)],  # diagonal top-left to bottom-right\n",
    "    [(20, 15), (15, 10), (20, 5)],  # right triangle\n",
    "    [(20, 0), (0, 20)],  # diagonal top-right to bottom-left\n",
    "    [(0, 15), (5, 10), (0, 5)],  # left triangle\n",
    "    [(5, 0), (10, 5), (15, 0)],  # top triangle\n",
    "    [(5, 20), (10, 15), (15, 20)],  # bottom triangle\n",
    "]\n"
   ]
  },
  {
   "attachments": {},
   "cell_type": "markdown",
   "metadata": {},
   "source": [
    "# Test `draw_unit`\n"
   ]
  },
  {
   "cell_type": "code",
   "execution_count": 4,
   "metadata": {},
   "outputs": [],
   "source": [
    "# Unit test for draw_unit\n",
    "g: GMatrix = get_gmatrix(\"output/test_pattern.gcode\")\n",
    "pen_up(g)\n",
    "draw_unit(g, rotated_square_pattern)\n"
   ]
  },
  {
   "attachments": {},
   "cell_type": "markdown",
   "metadata": {},
   "source": [
    "# Draw repeating pattern"
   ]
  },
  {
   "cell_type": "code",
   "execution_count": 6,
   "metadata": {},
   "outputs": [],
   "source": [
    "# Useful GCode snippets\n",
    "end_code = \"\"\n",
    "\n",
    "# Initialise GCode generation and write start code\n",
    "g: GMatrix = get_gmatrix(\"output/repeating_pattern_rotated_square.gcode\")\n",
    "\n",
    "# Move the pen to a reasonable starting position\n",
    "pen_up(g)\n",
    "g.move(30, 30, rapid=True)\n",
    "\n",
    "# Draw the pattern\n",
    "draw_repeating_pattern(g, 20, 20, rotated_square_pattern, 1, (4, 5))\n",
    "\n",
    "# Write end code\n",
    "g.pop_matrix()\n",
    "g.write(end_code)\n"
   ]
  }
 ],
 "metadata": {
  "kernelspec": {
   "display_name": "base",
   "language": "python",
   "name": "python3"
  },
  "language_info": {
   "codemirror_mode": {
    "name": "ipython",
    "version": 3
   },
   "file_extension": ".py",
   "mimetype": "text/x-python",
   "name": "python",
   "nbconvert_exporter": "python",
   "pygments_lexer": "ipython3",
   "version": "3.9.7"
  },
  "orig_nbformat": 4,
  "vscode": {
   "interpreter": {
    "hash": "ad2bdc8ecc057115af97d19610ffacc2b4e99fae6737bb82f5d7fb13d2f2c186"
   }
  }
 },
 "nbformat": 4,
 "nbformat_minor": 2
}
