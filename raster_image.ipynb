{
 "cells": [
  {
   "cell_type": "code",
   "execution_count": 1,
   "metadata": {},
   "outputs": [],
   "source": [
    "# External dependencies\n",
    "from mecode import GMatrix\n"
   ]
  },
  {
   "cell_type": "code",
   "execution_count": 2,
   "metadata": {},
   "outputs": [],
   "source": [
    "# Local denpendencies\n",
    "from src.helpers.gmatrix_extensions import get_gmatrix, pen_down, pen_up\n",
    "from src.raster_image.image2gcode import convert_to_gcode\n"
   ]
  },
  {
   "cell_type": "code",
   "execution_count": 3,
   "metadata": {},
   "outputs": [
    {
     "name": "stdout",
     "output_type": "stream",
     "text": [
      "Reading image file: images/starship.png\n",
      "Width: 782, Height: 1216, Channels: 3\n"
     ]
    }
   ],
   "source": [
    "threshold = 0.8\n",
    "input_image = \"images/starship.png\"\n",
    "output_file = \"output/starship.gcode\"\n",
    "\n",
    "convert_to_gcode(input_image, output_file, threshold)"
   ]
  }
 ],
 "metadata": {
  "kernelspec": {
   "display_name": "base",
   "language": "python",
   "name": "python3"
  },
  "language_info": {
   "codemirror_mode": {
    "name": "ipython",
    "version": 3
   },
   "file_extension": ".py",
   "mimetype": "text/x-python",
   "name": "python",
   "nbconvert_exporter": "python",
   "pygments_lexer": "ipython3",
   "version": "3.9.7"
  },
  "orig_nbformat": 4
 },
 "nbformat": 4,
 "nbformat_minor": 2
}
