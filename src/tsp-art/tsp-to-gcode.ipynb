{
 "cells": [
  {
   "cell_type": "code",
   "execution_count": 1,
   "metadata": {},
   "outputs": [],
   "source": [
    "input_path: str = \"starship-olm-1024-stipple.tsp\"\n",
    "\n",
    "# Read the TSP file and conver the coordiantes into a list of tuples\n",
    "lines: list[str] = []\n",
    "with open(input_path) as f:\n",
    "    lines = f.readlines()\n",
    "\n",
    "# Remove the first lines of description\n",
    "for i, line in enumerate(lines):\n",
    "    if line[0] in \"0123456789\":\n",
    "        lines = lines[i:]\n",
    "        break\n",
    "\n",
    "# Remove line number\n",
    "points = [line.split()[1:] for line in lines]\n",
    "\n",
    "# Convert to float tuples\n",
    "points = [(float(x), float(y)) for x, y in points]"
   ]
  },
  {
   "cell_type": "code",
   "execution_count": 2,
   "metadata": {},
   "outputs": [],
   "source": [
    "solution_file: str = \"test1.cyc\"\n",
    "\n",
    "# Read the cyc file\n",
    "lines: list[str] = []\n",
    "with open(solution_file) as f:\n",
    "    lines = f.readlines()\n",
    "\n",
    "solution: list[int] = [int(line) for line in lines[1:]]"
   ]
  },
  {
   "cell_type": "code",
   "execution_count": 6,
   "metadata": {},
   "outputs": [
    {
     "name": "stdout",
     "output_type": "stream",
     "text": [
      "Requirement already satisfied: mecode in c:\\users\\jinch\\.conda\\envs\\ml\\lib\\site-packages (0.4.1)\n",
      "Requirement already satisfied: numpy in c:\\users\\jinch\\.conda\\envs\\ml\\lib\\site-packages (from mecode) (1.23.5)\n",
      "Requirement already satisfied: pyserial in c:\\users\\jinch\\.conda\\envs\\ml\\lib\\site-packages (from mecode) (3.5)\n",
      "Note: you may need to restart the kernel to use updated packages.\n"
     ]
    },
    {
     "name": "stderr",
     "output_type": "stream",
     "text": [
      "\n",
      "[notice] A new release of pip available: 23.0 -> 23.0.1\n",
      "[notice] To update, run: python.exe -m pip install --upgrade pip\n"
     ]
    }
   ],
   "source": [
    "%pip install mecode\n",
    "\n",
    "from mecode import GMatrix"
   ]
  },
  {
   "attachments": {},
   "cell_type": "markdown",
   "metadata": {},
   "source": [
    "# Helpers (copied)"
   ]
  },
  {
   "cell_type": "code",
   "execution_count": 7,
   "metadata": {},
   "outputs": [],
   "source": [
    "def pen_down(g: GMatrix) -> None:\n",
    "    \"\"\"Lower the pen.\n",
    "\n",
    "    Args:\n",
    "        g (GMatrix): GMatrix instance to use for GCode generation.\n",
    "    \"\"\"\n",
    "\n",
    "    # This represents lowering the pen, but does not have any real effect as this plotter only prints in 2D.\n",
    "    if g.is_relative:\n",
    "        g.move(z=-3.3)\n",
    "    else:\n",
    "        g.move(x=g.current_position['x'], y=g.current_position['y'], z=0)\n",
    "\n",
    "    # This command actually lowers the pen.\n",
    "    g.write(\"M9\")\n",
    "\n",
    "\n",
    "def pen_up(g: GMatrix) -> None:\n",
    "    \"\"\"Raise the pen.\n",
    "\n",
    "    Args:\n",
    "        g (GMatrix): GMatrix instance to use for GCode generation.\n",
    "    \"\"\"\n",
    "\n",
    "    # This represents raising the pen, but does not have any real effect as this plotter only prints in 2D.\n",
    "    if g.is_relative:\n",
    "        g.move(z=3.3)\n",
    "    else:\n",
    "        g.move(x=g.current_position['x'], y=g.current_position['y'], z=3.3)\n",
    "\n",
    "    # This command actually raises the pen.\n",
    "    g.write(\"M8\")\n",
    "\n",
    "\n",
    "def get_gmatrix(outfile: str = None) -> GMatrix:\n",
    "    \"\"\"Create a GMatrix instance and write the starting GCode.\n",
    "\n",
    "    Args:\n",
    "        outfile (str, optional): Path to the output file. Defaults to None.\n",
    "\n",
    "    Returns:\n",
    "        GMatrix: GMatrix instance.\n",
    "    \"\"\"\n",
    "\n",
    "    start_code = \"G91 ;relative\\nG21 ;mm\\nG92 X0 Y0 Z0 ;reset origin\\nF2000;motion speed\"\n",
    "    g = GMatrix(outfile=outfile)\n",
    "    g.push_matrix()\n",
    "    g.write(start_code)\n",
    "    return g\n"
   ]
  },
  {
   "cell_type": "code",
   "execution_count": 8,
   "metadata": {},
   "outputs": [],
   "source": [
    "# Create a GMatrix instance and write the starting GCode\n",
    "g = get_gmatrix(\"test.gcode\")\n",
    "\n",
    "# Move the pen to a reasonable starting position\n",
    "pen_up(g)\n",
    "g.absolute()\n",
    "\n",
    "# Start drawing\n",
    "pen_down(g)\n",
    "for item in solution:\n",
    "    x, y = points[item]\n",
    "    g.move(x, y)\n",
    "\n",
    "# Finish drawing\n",
    "pen_up(g)"
   ]
  }
 ],
 "metadata": {
  "kernelspec": {
   "display_name": "ML",
   "language": "python",
   "name": "python3"
  },
  "language_info": {
   "codemirror_mode": {
    "name": "ipython",
    "version": 3
   },
   "file_extension": ".py",
   "mimetype": "text/x-python",
   "name": "python",
   "nbconvert_exporter": "python",
   "pygments_lexer": "ipython3",
   "version": "3.10.9"
  },
  "orig_nbformat": 4,
  "vscode": {
   "interpreter": {
    "hash": "f5458f74cc04a2c0765be2b43bd75bd0f09091972ab65a3b08edb45fbf046640"
   }
  }
 },
 "nbformat": 4,
 "nbformat_minor": 2
}
